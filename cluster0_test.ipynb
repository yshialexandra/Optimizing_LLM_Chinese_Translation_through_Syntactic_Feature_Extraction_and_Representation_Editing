{
 "cells": [
  {
   "cell_type": "code",
   "execution_count": 1,
   "metadata": {},
   "outputs": [],
   "source": [
    "import json\n",
    "import os\n",
    "import glob\n",
    "import torch"
   ]
  },
  {
   "cell_type": "code",
   "execution_count": 2,
   "metadata": {},
   "outputs": [],
   "source": [
    "with open('.\\\\processed\\\\cluster0_better.json', 'r', encoding='utf-8') as f:\n",
    "    data = json.load(f)\n",
    "\n",
    "cluster0 = data\n",
    "\n",
    "# print(data)\n",
    "\n",
    "# print(data[0]['cluster'])"
   ]
  },
  {
   "cell_type": "code",
   "execution_count": 3,
   "metadata": {},
   "outputs": [],
   "source": [
    "# # 查找文件夹下所有 .json 文件\n",
    "# json_files = glob.glob(os.path.join('.\\\\output', '*.json'))\n",
    "# good_items = []\n",
    "# # 遍历并处理每个 JSON 文件\n",
    "# for json_file in json_files:\n",
    "#     # print(f\"Processing file: {json_file}\")\n",
    "#     with open(json_file, 'r', encoding='utf-8') as f:\n",
    "#         data = json.load(f)\n",
    "#     for item in data:\n",
    "#         if item['en'] in cluster0 and len(item['zh']) != 0:\n",
    "#             good_items.append(item)\n",
    "    "
   ]
  },
  {
   "cell_type": "code",
   "execution_count": 4,
   "metadata": {},
   "outputs": [
    {
     "name": "stdout",
     "output_type": "stream",
     "text": [
      "tensor([[[-27.4455,  66.7559,  36.1258,  ...,  34.2148, -20.2648,  -6.7462]],\n",
      "\n",
      "        [[-24.6134,  66.1673,  38.8719,  ...,  34.5056, -17.4966,  -5.5245]],\n",
      "\n",
      "        [[-18.1349,  56.2371,  37.3091,  ...,  23.6045, -29.0091,  -0.8900]],\n",
      "\n",
      "        [[ -7.2849,  49.2042,  33.1335,  ...,  24.8248, -31.8645,   0.3805]],\n",
      "\n",
      "        [[ -5.7057,  51.2722,  31.9481,  ...,  27.1199, -27.6543,  -5.5781]]])\n",
      "tensor([[[-1.5247,  3.7087,  2.0070,  ...,  1.9008, -1.1258, -0.3748]],\n",
      "\n",
      "        [[-1.3674,  3.6760,  2.1596,  ...,  1.9170, -0.9720, -0.3069]],\n",
      "\n",
      "        [[-1.0075,  3.1243,  2.0727,  ...,  1.3114, -1.6116, -0.0494]],\n",
      "\n",
      "        [[-0.4047,  2.7336,  1.8408,  ...,  1.3792, -1.7702,  0.0211]],\n",
      "\n",
      "        [[-0.3170,  2.8485,  1.7749,  ...,  1.5067, -1.5363, -0.3099]]])\n"
     ]
    }
   ],
   "source": [
    "zero_tensor = torch.zeros(5, 1, 1024)\n",
    "for item in good_items:\n",
    "    tmp_tensor = torch.zeros(5, 1, 1024)\n",
    "    for state in item['last_token_state']:\n",
    "        tmp_tensor = tmp_tensor + torch.tensor(state)\n",
    "    tmp_tensor = tmp_tensor / len(item['last_token_state'])\n",
    "    zero_tensor = zero_tensor + tmp_tensor\n",
    "print(zero_tensor)\n",
    "zero_tensor = zero_tensor / len(good_items)\n",
    "print(zero_tensor)\n"
   ]
  },
  {
   "cell_type": "code",
   "execution_count": 6,
   "metadata": {},
   "outputs": [],
   "source": [
    "zero_tensor = zero_tensor.tolist()"
   ]
  },
  {
   "cell_type": "code",
   "execution_count": 7,
   "metadata": {},
   "outputs": [],
   "source": [
    "with open('cluster0_steering_vector.json', 'w', encoding='utf-8') as f:\n",
    "        json.dump(zero_tensor, f, ensure_ascii=False, indent=4)"
   ]
  }
 ],
 "metadata": {
  "kernelspec": {
   "display_name": "Python 3",
   "language": "python",
   "name": "python3"
  },
  "language_info": {
   "codemirror_mode": {
    "name": "ipython",
    "version": 3
   },
   "file_extension": ".py",
   "mimetype": "text/x-python",
   "name": "python",
   "nbconvert_exporter": "python",
   "pygments_lexer": "ipython3",
   "version": "3.12.0"
  }
 },
 "nbformat": 4,
 "nbformat_minor": 2
}
