{
 "cells": [
  {
   "cell_type": "code",
   "execution_count": null,
   "metadata": {},
   "outputs": [],
   "source": [
    "import xml.etree.ElementTree as ET\n",
    "import os\n",
    "\n",
    "def parse_tmx(file):\n",
    "    # 解析 XML 文件\n",
    "    tree = ET.parse(file)\n",
    "    root = tree.getroot()\n",
    "\n",
    "    # 找到 TMX 文件中的 body 部分\n",
    "    body = root.find(\"body\")\n",
    "    if body is None:\n",
    "        raise ValueError(\"Invalid TMX file: missing <body> section.\")\n",
    "\n",
    "    # 遍历所有 <tu> 元素\n",
    "    for tu in body.findall(\"tu\"):\n",
    "        translations = {}\n",
    "        # 提取每个 <tu> 中的 <tuv> 元素\n",
    "        for tuv in tu.findall(\"tuv\"):\n",
    "            lang = tuv.attrib.get(\"{http://www.w3.org/XML/1998/namespace}lang\")  # 获取语言属性\n",
    "            seg = tuv.find(\"seg\")\n",
    "            if lang and seg.text is not None:\n",
    "                translations[lang] = seg.text.strip()\n",
    "\n",
    "        # 如果有源语言和目标语言，返回一对\n",
    "        if \"en-US\" in translations and \"zh-CN\" in translations:\n",
    "            yield translations[\"en-US\"], translations[\"zh-CN\"]\n",
    "\n",
    "\n",
    "def list_tmx_files(folder_path):\n",
    "    # 遍历文件夹及其子文件夹中的所有文件\n",
    "    for root, _, files in os.walk(folder_path):\n",
    "        for file in files:\n",
    "            if file.endswith('.tmx') and file[0].upper() in {'A', 'B', 'C'}:  # 只处理以 .txt 结尾的文件\n",
    "                file_path = os.path.join(root, file)\n",
    "                yield file_path  # 返回文件的完整路径\n",
    "\n",
    "def write_lines_to_txt(file_path, lines):\n",
    "    with open(file_path, 'w', encoding='utf-8') as file:\n",
    "        for line in lines:\n",
    "            file.write(line + '\\n')  # 在每个字符串后加换行符\n",
    "\n"
   ]
  },
  {
   "cell_type": "code",
   "execution_count": null,
   "metadata": {},
   "outputs": [],
   "source": [
    "folder_path = \"path/to/your/tmx/files\"\n",
    "for tmx_file in list_tmx_files(folder_path):\n",
    "  tmp = []\n",
    "  for en, zh in parse_tmx(tmx_file):\n",
    "    tmp.append(en)\n",
    "  if len(tmp) == 0:\n",
    "    continue\n",
    "  tmp.pop(0)\n",
    "  write_lines_to_txt(\"path/to/your/output/folder/\" + str(tmx_file.rsplit('/', 1)[-1].rsplit('.', 1)[0]) + \"_en.txt\", tmp)\n",
    "    "
   ]
  }
 ],
 "metadata": {
  "language_info": {
   "name": "python"
  }
 },
 "nbformat": 4,
 "nbformat_minor": 2
}
