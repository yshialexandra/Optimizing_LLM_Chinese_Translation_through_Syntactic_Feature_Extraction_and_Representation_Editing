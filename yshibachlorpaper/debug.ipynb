{
 "cells": [
  {
   "cell_type": "code",
   "execution_count": 1,
   "metadata": {},
   "outputs": [],
   "source": [
    "from collections import defaultdict\n",
    "def tree():\n",
    "    return defaultdict(tree)\n",
    "\n",
    "class Stack:\n",
    "    def __init__(self):\n",
    "        self.items = []\n",
    "\n",
    "    def is_empty(self):\n",
    "        return self.items == []\n",
    "\n",
    "    def push(self, item):\n",
    "        self.items.append(item)\n",
    "\n",
    "    def pop(self):\n",
    "        if not self.is_empty():\n",
    "            return self.items.pop()\n",
    "        else:\n",
    "            print(\"Stack is empty\")\n",
    "\n",
    "    def top(self):\n",
    "        if not self.is_empty():\n",
    "            return self.items[-1]\n",
    "        else:\n",
    "            print(\"Stack is empty\")\n",
    "\n",
    "    def size(self):\n",
    "        return len(self.items)\n",
    "    \n",
    "def dicts(t): return {k: dicts(t[k]) for k in t}"
   ]
  },
  {
   "cell_type": "code",
   "execution_count": 23,
   "metadata": {},
   "outputs": [
    {
     "name": "stdout",
     "output_type": "stream",
     "text": [
      "(ROOT(IP(IP(PP)(,)(NP)(VP))(,)(IP(NP)(VP))(.)))\n",
      "{'IP': {'IP': {'PP': {}, ',': {}, 'NP': {}, 'VP': {}}, ',': {}, 'IP1': {'NP': {}, 'VP': {}}, '.': {}}}\n"
     ]
    }
   ],
   "source": [
    "MAXLAYER=3\n",
    "treeStrList = ['(', 'ROOT', '(', 'IP', '(', 'IP', '(', 'PP', '(', 'VV', ')', '(', 'PP', '(', 'VC', ')', '(', 'NP', '(', 'VV', ')', '(', 'SFN', ')', ')', ')', ')', '(', ',', ')', '(', 'NP', '(', 'NNP', ')', '(', '/', ')', '(', 'NNP', ')', ')', '(', 'VP', '(', 'VV', ')', '(', 'AS', ')', '(', 'NP', '(', 'QP', '(', 'CD', ')', '(', 'CLP', '(', 'NNB', ')', ')', ')', '(', 'NP', '(', '-LRB-', ')', '(', 'NN', ')', '(', 'NN', ')', '(', '-RRB-', ')', ')', '(', 'NP', '(', 'NN', ')', ')', ')', ')', ')', '(', ',', ')', '(', 'IP', '(', 'NP', '(', 'PRP', ')', ')', '(', 'VP', '(', 'PP', '(', 'IN', ')', '(', 'NP', '(', 'NN', ')', ')', ')', '(', 'VP', '(', 'VV', ')', '(', 'IP', '(', 'IP', '(', 'NP', '(', 'NP', '(', 'NNP', ')', ')', '(', 'NP', '(', 'NN', ')', ')', ')', '(', 'VP', '(', 'VC', ')', '(', 'NP', '(', 'NP', '(', 'NNP', ')', ')', '(', 'CP', '(', 'CP', '(', 'IP', '(', 'VP', '(', 'ADVP', '(', 'RB', ')', ')', '(', 'VP', '(', 'JJ', ')', ')', ')', ')', '(', 'DEC', ')', ')', ')', '(', 'NP', '(', 'NN', ')', ')', ')', ')', ')', '(', ',', ')', '(', 'IP', '(', 'NP', '(', 'PRD', ')', ')', '(', 'VP', '(', 'ADVP', '(', 'RB', ')', ')', '(', 'VP', '(', 'VV', ')', '(', 'AS', ')', '(', 'NP', '(', 'DNP', '(', 'NP', '(', 'CP', '(', 'CP', '(', 'IP', '(', 'NP', '(', 'NP', '(', 'NNP', ')', ')', '(', 'NP', '(', 'SFN', ')', ')', ')', '(', 'VP', '(', 'LCP', '(', 'IP', '(', 'VP', '(', 'PP', '(', 'IN', ')', '(', 'IP', '(', 'NP', '(', 'NNP', ')', '(', 'NN', ')', ')', '(', 'VP', '(', 'VV', ')', '(', 'NP', '(', 'NNP', ')', ')', ')', ')', ')', '(', 'VP', '(', 'RB', ')', '(', 'VP', '(', 'ADVP', '(', 'RB', ')', ')', '(', 'VP', '(', 'VV', ')', '(', 'NP', '(', 'NNP', ')', ')', ')', ')', ')', ')', ')', '(', 'IN', ')', ')', '(', 'VP', '(', 'RB', ')', '(', 'VP', '(', 'VV', ')', ')', ')', ')', ')', '(', 'DEC', ')', ')', ')', '(', 'NP', '(', 'NN', ')', ')', ')', '(', 'DEC', ')', ')', '(', 'NP', '(', 'NN', ')', ')', ')', ')', ')', ')', ')', ')', ')', ')', '(', '.', ')', ')', ')']\n",
    "la=0\n",
    "debug = []\n",
    "for c in treeStrList:\n",
    "    if c == '(':\n",
    "        la+=1\n",
    "        if la <= MAXLAYER+1:\n",
    "            debug.append(c)\n",
    "    elif c == ')':\n",
    "        if la > 0 and la <= MAXLAYER+1:\n",
    "            debug.append(c)\n",
    "        la-=1\n",
    "    else:\n",
    "        if la <= MAXLAYER+1:\n",
    "            debug.append(c)\n",
    "print(''.join(debug))\n",
    "\n",
    "featyreTree = tree()\n",
    "stack = Stack()\n",
    "i = 0\n",
    "layer = -1\n",
    "while i < len(debug):\n",
    "    if debug[i] == '(':\n",
    "        i+=1\n",
    "        layer+=1\n",
    "        if layer <= MAXLAYER:\n",
    "            if(stack.is_empty()):\n",
    "                featyreTree[debug[i]]\n",
    "                stack.push(featyreTree[debug[i]])\n",
    "            else:\n",
    "                if(debug[i] in stack.top()):\n",
    "                    keytmp = debug[i] + '1'\n",
    "                else:\n",
    "                    keytmp = debug[i]\n",
    "                stack.top()[keytmp]\n",
    "                stack.push(stack.top()[keytmp])\n",
    "        i+=1\n",
    "        continue\n",
    "    elif debug[i] == ')':\n",
    "        if layer > 0 and layer <= MAXLAYER:\n",
    "            stack.pop()\n",
    "        layer-=1\n",
    "        i+=1\n",
    "        continue\n",
    "print(str(dicts(featyreTree)['ROOT']))"
   ]
  }
 ],
 "metadata": {
  "kernelspec": {
   "display_name": "Python 3",
   "language": "python",
   "name": "python3"
  },
  "language_info": {
   "codemirror_mode": {
    "name": "ipython",
    "version": 3
   },
   "file_extension": ".py",
   "mimetype": "text/x-python",
   "name": "python",
   "nbconvert_exporter": "python",
   "pygments_lexer": "ipython3",
   "version": "3.12.0"
  }
 },
 "nbformat": 4,
 "nbformat_minor": 2
}
