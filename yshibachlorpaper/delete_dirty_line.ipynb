{
 "cells": [
  {
   "cell_type": "code",
   "execution_count": 2,
   "metadata": {},
   "outputs": [],
   "source": [
    "import os\n",
    "import glob\n",
    "\n",
    "def filter_short_lines(input_folder, output_file):\n",
    "    # 获取所有txt文件的路径\n",
    "    txt_files = glob.glob(os.path.join(input_folder, '*.txt'))\n",
    "    \n",
    "    with open(output_file, 'w', encoding='utf-8') as out_f:\n",
    "        for txt_path in txt_files:\n",
    "            with open(txt_path, 'r', encoding='utf-8') as in_f:\n",
    "                for line in in_f:\n",
    "                    # 去除行尾换行符后计算长度\n",
    "                    if len(line.rstrip('\\n')) < 8:\n",
    "                        out_f.write(line)\n",
    "\n",
    "# 使用示例\n",
    "input_folder = './LCMC_txt'  # 替换为你的文件夹路径\n",
    "output_file = 'output.txt'  # 输出文件名\n",
    "filter_short_lines(input_folder, output_file)"
   ]
  },
  {
   "cell_type": "code",
   "execution_count": 10,
   "metadata": {},
   "outputs": [
    {
     "name": "stdout",
     "output_type": "stream",
     "text": [
      "成功写入 1500 行（总符合条件行：3706）\n"
     ]
    }
   ],
   "source": [
    "import random\n",
    "\n",
    "def select_sentences(input_file, output_file, min_length=7, sample_size=100):\n",
    "    # 读取所有符合条件的行\n",
    "    with open(input_file, 'r', encoding='utf-8') as f:\n",
    "        eligible_lines = [\n",
    "            line for line in f\n",
    "            if len(line.rstrip('\\n')) > min_length\n",
    "        ]\n",
    "\n",
    "    # 检查有效行数量\n",
    "    if len(eligible_lines) == 0:\n",
    "        print(\"错误：没有符合条件的句子\")\n",
    "        return\n",
    "\n",
    "    # 随机抽样（自动处理不足100行的情况）\n",
    "    selected = random.sample(\n",
    "        eligible_lines,\n",
    "        k=min(sample_size, len(eligible_lines))\n",
    "    )\n",
    "\n",
    "    # 写入输出文件\n",
    "    with open(output_file, 'w', encoding='utf-8') as f:\n",
    "        f.writelines(selected)\n",
    "\n",
    "    # 打印统计信息\n",
    "    print(f\"成功写入 {len(selected)} 行（总符合条件行：{len(eligible_lines)}）\")\n",
    "\n",
    "# 使用示例\n",
    "select_sentences(\n",
    "    input_file = \"./LCMC_txt/corpus_A.txt\",\n",
    "    output_file = \"./delete/corpus_A_delete.txt\",\n",
    "    min_length=7,\n",
    "    sample_size=1500\n",
    ")"
   ]
  }
 ],
 "metadata": {
  "kernelspec": {
   "display_name": "Python 3",
   "language": "python",
   "name": "python3"
  },
  "language_info": {
   "codemirror_mode": {
    "name": "ipython",
    "version": 3
   },
   "file_extension": ".py",
   "mimetype": "text/x-python",
   "name": "python",
   "nbconvert_exporter": "python",
   "pygments_lexer": "ipython3",
   "version": "3.12.0"
  }
 },
 "nbformat": 4,
 "nbformat_minor": 2
}
